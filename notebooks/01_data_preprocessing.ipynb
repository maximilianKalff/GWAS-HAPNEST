{
 "cells": [
  {
   "cell_type": "markdown",
   "metadata": {},
   "source": [
    "## 1. Imports & File Paths"
   ]
  },
  {
   "cell_type": "code",
   "execution_count": null,
   "metadata": {},
   "outputs": [],
   "source": [
    "import pandas as pd\n",
    "import subprocess\n",
    "\n",
    "RAW_DATA_DIR = \"../data/raw/\"\n",
    "PROCESSED_DATA_DIR = \"../data/processed/EUR/\"\n",
    "PLINK_PATH = \"../plink\"\n",
    "\n",
    "selected_group = \"EUR\"\n",
    "\n",
    "sample_file = f\"{RAW_DATA_DIR}synthetic_v1.sample\"\n",
    "fam_file = f\"{RAW_DATA_DIR}synthetic_v1.fam\"\n",
    "pheno_file = f\"{RAW_DATA_DIR}synthetic_v1.pheno3\"\n",
    "chr_plink_path = f\"{RAW_DATA_DIR}synthetic_v1_chr-\"\n",
    "\n",
    "filtered_fam = f\"{PROCESSED_DATA_DIR}synthetic_v1_filtered.fam\"\n",
    "filtered_pheno = f\"{PROCESSED_DATA_DIR}synthetic_v1_filtered.pheno\"\n",
    "filtered_chr_plink_path = f\"{PROCESSED_DATA_DIR}synthetic_v1_filtered_chr-\"\n",
    "\n",
    "chromosomes = list(range(1, 23))"
   ]
  },
  {
   "cell_type": "markdown",
   "metadata": {},
   "source": [
    "## 2 Preprocessing"
   ]
  },
  {
   "cell_type": "markdown",
   "metadata": {},
   "source": [
    "### 2.2 Load `.sample` and `.fam` files"
   ]
  },
  {
   "cell_type": "code",
   "execution_count": null,
   "metadata": {},
   "outputs": [],
   "source": [
    "sample_df = pd.read_csv(sample_file, sep='\\s+', header=None, names=[\"Ancestry\"])\n",
    "\n",
    "fam_cols = [\"FID\", \"IID\", \"Father\", \"Mother\", \"Sex\", \"Phenotype\"]\n",
    "fam_df = pd.read_csv(fam_file, sep='\\s+', names=fam_cols)\n",
    "\n",
    "sample_df[\"IID\"] = fam_df[\"IID\"].values\n",
    "\n",
    "sample_df.head(), fam_df.head()"
   ]
  },
  {
   "cell_type": "markdown",
   "metadata": {},
   "source": [
    "### 2.3 Filter individuals by ancestry"
   ]
  },
  {
   "cell_type": "code",
   "execution_count": null,
   "metadata": {},
   "outputs": [],
   "source": [
    "filtered_ids = sample_df[sample_df['Ancestry'] == selected_group][\"IID\"].tolist()\n",
    "filtered_fam_df = fam_df[fam_df[\"IID\"].isin(filtered_ids)]\n",
    "\n",
    "filtered_fam_df.head()"
   ]
  },
  {
   "cell_type": "markdown",
   "metadata": {},
   "source": [
    "### 2.4 Load and merge `.pheno3` (phenotype file). "
   ]
  },
  {
   "cell_type": "code",
   "execution_count": null,
   "metadata": {},
   "outputs": [],
   "source": [
    "pheno_df = pd.read_csv(pheno_file, delim_whitespace=True)\n",
    "\n",
    "pheno_df.rename(columns={\"Sample\": \"IID\"}, inplace=True)\n",
    "filtered_fam_df = fam_df[fam_df[\"IID\"].isin(filtered_ids)].merge(pheno_df[[\"IID\", \"Phenotype(binary)\"]], on=\"IID\", how=\"inner\")\n",
    "filtered_fam_df[\"Phenotype\"] = filtered_fam_df[\"Phenotype(binary)\"].map({0: 1, 1: 2})  # 1 = control, 2 = case\n",
    "filtered_fam_df = filtered_fam_df.drop(\"Phenotype(binary)\", axis=1)\n",
    "\n",
    "filtered_fam_df[[\"FID\", \"IID\", \"Phenotype\"]].to_csv(filtered_pheno, sep=\" \", index=False, header=False)\n",
    "filtered_fam_df.to_csv(filtered_fam, sep=\" \", index=False, header=False)\n",
    "\n",
    "print(filtered_fam_df[\"Phenotype\"].value_counts())\n",
    "filtered_fam_df.head()"
   ]
  },
  {
   "cell_type": "markdown",
   "metadata": {},
   "source": [
    "### 2.6 Filter based on filtered `.fam` file & QC"
   ]
  },
  {
   "cell_type": "code",
   "execution_count": null,
   "metadata": {},
   "outputs": [],
   "source": [
    "for chrom in chromosomes:\n",
    "    print(f\"==== Filtering {chrom}... ====\")\n",
    "    plink_filter_cmd = [\n",
    "        PLINK_PATH, '--bfile', f'{chr_plink_path}{chrom}',\n",
    "        '--keep', filtered_fam,\n",
    "        '--pheno', filtered_pheno,\n",
    "        '--geno', '0.05',\n",
    "        '--hwe', '1e-6',\n",
    "        '--maf', '0.01',\n",
    "        '--allow-no-sex',\n",
    "        '--make-bed',\n",
    "        '--out', f'{filtered_chr_plink_path}{chrom}'\n",
    "    ]\n",
    "    subprocess.run(plink_filter_cmd)"
   ]
  }
 ],
 "metadata": {
  "kernelspec": {
   "display_name": "venv",
   "language": "python",
   "name": "python3"
  },
  "language_info": {
   "codemirror_mode": {
    "name": "ipython",
    "version": 3
   },
   "file_extension": ".py",
   "mimetype": "text/x-python",
   "name": "python",
   "nbconvert_exporter": "python",
   "pygments_lexer": "ipython3",
   "version": "3.11.0"
  }
 },
 "nbformat": 4,
 "nbformat_minor": 2
}
