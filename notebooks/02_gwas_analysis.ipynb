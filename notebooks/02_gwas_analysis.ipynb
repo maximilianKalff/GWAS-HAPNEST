{
 "cells": [
  {
   "cell_type": "code",
   "execution_count": null,
   "metadata": {},
   "outputs": [],
   "source": [
    "import pandas as pd"
   ]
  },
  {
   "cell_type": "markdown",
   "metadata": {},
   "source": [
    "## 1. GWAS for EUR"
   ]
  },
  {
   "cell_type": "code",
   "execution_count": null,
   "metadata": {},
   "outputs": [],
   "source": [
    "with open(\"../data/processed/EUR/merge_list.txt\", \"w\") as f:\n",
    "    for chrom in range(2, 23):\n",
    "        f.write(f\"../data/processed/EUR/synthetic_v1_filtered_chr-{chrom}\\n\")"
   ]
  },
  {
   "cell_type": "code",
   "execution_count": null,
   "metadata": {},
   "outputs": [],
   "source": [
    "!../plink --bfile '../data/processed/EUR/synthetic_v1_filtered_chr-1' \\\n",
    "         --merge-list '../data/processed/EUR/merge_list.txt' \\\n",
    "         --allow-no-sex \\\n",
    "         --make-bed \\\n",
    "         --out '../data/processed/EUR/synthetic_v1_merged'"
   ]
  },
  {
   "cell_type": "code",
   "execution_count": null,
   "metadata": {},
   "outputs": [],
   "source": [
    "!../plink --bfile '../data/processed/EUR/synthetic_v1_merged' \\\n",
    "         --logistic \\\n",
    "         --ci 0.95 \\\n",
    "         --allow-no-sex \\\n",
    "         --out '../data/processed/EUR/synthetic_v1_GWAS_logistic'"
   ]
  },
  {
   "cell_type": "markdown",
   "metadata": {},
   "source": [
    "## 2. GWAS for AFR"
   ]
  },
  {
   "cell_type": "code",
   "execution_count": null,
   "metadata": {},
   "outputs": [],
   "source": [
    "with open(\"../data/processed/AFR/merge_list.txt\", \"w\") as f:\n",
    "    for chrom in range(2, 23):\n",
    "        f.write(f\"../data/processed/AFR/synthetic_v1_filtered_chr-{chrom}\\n\")"
   ]
  },
  {
   "cell_type": "code",
   "execution_count": null,
   "metadata": {},
   "outputs": [],
   "source": [
    "!../plink --bfile '../data/processed/AFR/synthetic_v1_filtered_chr-1' \\\n",
    "         --merge-list '../data/processed/AFR/merge_list.txt' \\\n",
    "         --allow-no-sex \\\n",
    "         --make-bed \\\n",
    "         --out '../data/processed/AFR/synthetic_v1_merged'"
   ]
  },
  {
   "cell_type": "code",
   "execution_count": null,
   "metadata": {},
   "outputs": [],
   "source": [
    "!../plink --bfile '../data/processed/AFR/synthetic_v1_merged' \\\n",
    "         --logistic \\\n",
    "         --ci 0.95 \\\n",
    "         --allow-no-sex \\\n",
    "         --out '../data/processed/AFR/synthetic_v1_GWAS_logistic'"
   ]
  },
  {
   "cell_type": "markdown",
   "metadata": {},
   "source": [
    "## 3. Meta-Analysis"
   ]
  },
  {
   "cell_type": "code",
   "execution_count": null,
   "metadata": {},
   "outputs": [],
   "source": [
    "!../plink --meta-analysis ../data/processed/EUR/synthetic_v1_GWAS_logistic.assoc.logistic \\\n",
    "      ../data/processed/AFR/synthetic_v1_GWAS_logistic.assoc.logistic \\\n",
    "      --out ../data/meta_results\n"
   ]
  }
 ],
 "metadata": {
  "kernelspec": {
   "display_name": "venv",
   "language": "python",
   "name": "python3"
  },
  "language_info": {
   "codemirror_mode": {
    "name": "ipython",
    "version": 3
   },
   "file_extension": ".py",
   "mimetype": "text/x-python",
   "name": "python",
   "nbconvert_exporter": "python",
   "pygments_lexer": "ipython3",
   "version": "3.11.0"
  }
 },
 "nbformat": 4,
 "nbformat_minor": 2
}
