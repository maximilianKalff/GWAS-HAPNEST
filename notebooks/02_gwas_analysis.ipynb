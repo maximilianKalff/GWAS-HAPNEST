{
 "cells": [
  {
   "cell_type": "code",
   "execution_count": 11,
   "metadata": {},
   "outputs": [],
   "source": [
    "import pandas as pd"
   ]
  },
  {
   "cell_type": "markdown",
   "metadata": {},
   "source": [
    "### Merge all files"
   ]
  },
  {
   "cell_type": "code",
   "execution_count": 12,
   "metadata": {},
   "outputs": [],
   "source": [
    "with open(\"../data/processed/EUR/merge_list.txt\", \"w\") as f:\n",
    "    for chrom in range(2, 23):\n",
    "        f.write(f\"../data/processed/EUR/synthetic_v1_filtered_chr-{chrom}\\n\")"
   ]
  },
  {
   "cell_type": "code",
   "execution_count": 13,
   "metadata": {},
   "outputs": [
    {
     "name": "stdout",
     "output_type": "stream",
     "text": [
      "PLINK v1.9.0-b.7.7 64-bit (22 Oct 2024)            cog-genomics.org/plink/1.9/\n",
      "(C) 2005-2024 Shaun Purcell, Christopher Chang   GNU General Public License v3\n",
      "Logging to ../data/processed/EUR/synthetic_v1_merged.log.\n",
      "Options in effect:\n",
      "  --allow-no-sex\n",
      "  --bfile ../data/processed/EUR/synthetic_v1_filtered_chr-1\n",
      "  --make-bed\n",
      "  --merge-list ../data/processed/EUR/merge_list.txt\n",
      "  --out ../data/processed/EUR/synthetic_v1_merged\n",
      "\n",
      "16384 MB RAM detected; reserving 8192 MB for main workspace.\n",
      "Warning: Variants 'chr1:275627:C:T' and 'chr1:275627:C:A' have the same\n",
      "position.\n",
      "Warning: Variants 'chr1:712063:C:T' and 'chr1:712063:C:G' have the same\n",
      "position.\n",
      "Warning: Variants 'chr1:777382:T:G' and 'chr1:777382:T:A' have the same\n",
      "position.\n",
      "11082 more same-position warnings: see log file.\n",
      "Performing 47-pass merge (168000 people, 131245/6077441 variants per pass).\n",
      "Pass 1 complete.                              \n",
      "Pass 2 complete.                              \n",
      "Pass 3 complete.                              \n",
      "Pass 4 complete.                              \n",
      "Pass 5 complete.                              \n",
      "Pass 6 complete.                              \n",
      "Pass 7 complete.                              \n",
      "Pass 8 complete.                              \n",
      "Pass 9 complete.                              \n",
      "Pass 10 complete.                             \n",
      "Pass 11 complete.                             \n",
      "Pass 12 complete.                             \n",
      "Pass 13 complete.                             \n",
      "Pass 14 complete.                             \n",
      "Pass 15 complete.                             \n",
      "Pass 16 complete.                             \n",
      "Pass 17 complete.                             \n",
      "Pass 18 complete.                             \n",
      "Pass 19 complete.                             \n",
      "Pass 20 complete.                             \n",
      "Pass 21 complete.                             \n",
      "Pass 22 complete.                             \n",
      "Pass 23 complete.                             \n",
      "Pass 24 complete.                             \n",
      "Pass 25 complete.                             \n",
      "Pass 26 complete.                             \n",
      "Pass 27 complete.                             \n",
      "Pass 28 complete.                             \n",
      "Pass 29 complete.                             \n",
      "Pass 30 complete.                             \n",
      "Pass 31 complete.                             \n",
      "Pass 32 complete.                             \n",
      "Pass 33 complete.                             \n",
      "Pass 34 complete.                             \n",
      "Pass 35 complete.                             \n",
      "Pass 36 complete.                             \n",
      "Pass 37 complete.                             \n",
      "Pass 38 complete.                             \n",
      "Pass 39 complete.                             \n",
      "Pass 40 complete.                             \n",
      "Pass 41 complete.                             \n",
      "Pass 42 complete.                             \n",
      "Pass 43 complete.                             \n",
      "Pass 44 complete.                             \n",
      "Pass 45 complete.                             \n",
      "Pass 46 complete.                             \n",
      "Merged fileset written to ../data/processed/EUR/synthetic_v1_merged-merge.bed +\n",
      "../data/processed/EUR/synthetic_v1_merged-merge.bim +\n",
      "../data/processed/EUR/synthetic_v1_merged-merge.fam .\n",
      "6077441 variants loaded from .bim file.\n",
      "168000 people (0 males, 0 females, 168000 ambiguous) loaded from .fam.\n",
      "Ambiguous sex IDs written to ../data/processed/EUR/synthetic_v1_merged.nosex .\n",
      "168000 phenotype values loaded from .fam.\n",
      "Using 1 thread (no multithreaded calculations invoked).\n",
      "Before main variant filters, 168000 founders and 0 nonfounders present.\n",
      "Calculating allele frequencies... 10111213141516171819202122232425262728293031323334353637383940414243444546474849505152535455565758596061626364656667686970717273747576777879808182838485868788899091929394959697989 done.\n",
      "Total genotyping rate is in [0.9999995, 1).\n",
      "6077441 variants and 168000 people pass filters and QC.\n",
      "Among remaining phenotypes, 84065 are cases and 83935 are controls.\n",
      "--make-bed to ../data/processed/EUR/synthetic_v1_merged.bed +\n",
      "../data/processed/EUR/synthetic_v1_merged.bim +\n",
      "../data/processed/EUR/synthetic_v1_merged.fam ... 101112131415161718192021222324252627282930313233343536373839404142434445464748495051525354555657585960616263646566676869707172737475767778798081828384858687888990919293949596979899done.\n"
     ]
    }
   ],
   "source": [
    "!../plink --bfile '../data/processed/EUR/synthetic_v1_filtered_chr-1' \\\n",
    "         --merge-list '../data/processed/EUR/merge_list.txt' \\\n",
    "         --allow-no-sex \\\n",
    "         --make-bed \\\n",
    "         --out '../data/processed/EUR/synthetic_v1_merged'"
   ]
  },
  {
   "cell_type": "code",
   "execution_count": 6,
   "metadata": {},
   "outputs": [
    {
     "name": "stdout",
     "output_type": "stream",
     "text": [
      "PLINK v1.9.0-b.7.7 64-bit (22 Oct 2024)            cog-genomics.org/plink/1.9/\n",
      "(C) 2005-2024 Shaun Purcell, Christopher Chang   GNU General Public License v3\n",
      "Logging to ../data/processed/AFR/synthetic_v1_GWAS_logistic.log.\n",
      "Options in effect:\n",
      "  --allow-no-sex\n",
      "  --bfile ../data/processed/AFR/synthetic_v1_merged\n",
      "  --ci 0.95\n",
      "  --logistic\n",
      "  --out ../data/processed/AFR/synthetic_v1_GWAS_logistic\n",
      "  --threads 6\n",
      "\n",
      "16384 MB RAM detected; reserving 8192 MB for main workspace.\n",
      "5649144 variants loaded from .bim file.\n",
      "168000 people (0 males, 0 females, 168000 ambiguous) loaded from .fam.\n",
      "Ambiguous sex IDs written to\n",
      "../data/processed/AFR/synthetic_v1_GWAS_logistic.nosex .\n",
      "168000 phenotype values loaded from .fam.\n",
      "Using 1 thread (no multithreaded calculations invoked).\n",
      "Before main variant filters, 168000 founders and 0 nonfounders present.\n",
      "Calculating allele frequencies... 10111213141516171819202122232425262728293031323334353637383940414243444546474849505152535455565758596061626364656667686970717273747576777879808182838485868788899091929394959697989 done.\n",
      "Total genotyping rate is in [0.9999995, 1).\n",
      "5649144 variants and 168000 people pass filters and QC.\n",
      "Among remaining phenotypes, 83885 are cases and 84115 are controls.\n",
      "Writing logistic model association results to\n",
      "../data/processed/AFR/synthetic_v1_GWAS_logistic.assoc.logistic ... 10111213141516171819202122232425262728293031313233343536373839404142434445464748495051525354555657585960616263646566676869707172737475767778798081828384858687888990919293949596979899done.\n"
     ]
    }
   ],
   "source": [
    "!../plink --bfile '../data/processed/AFR/synthetic_v1_merged' \\\n",
    "         --logistic \\\n",
    "         --ci 0.95 \\\n",
    "         --allow-no-sex \\\n",
    "         --threads 6 \\\n",
    "         --out '../data/processed/AFR/synthetic_v1_GWAS_logistic'"
   ]
  },
  {
   "cell_type": "code",
   "execution_count": 9,
   "metadata": {},
   "outputs": [
    {
     "name": "stdout",
     "output_type": "stream",
     "text": [
      "PLINK v1.9.0-b.7.7 64-bit (22 Oct 2024)            cog-genomics.org/plink/1.9/\n",
      "(C) 2005-2024 Shaun Purcell, Christopher Chang   GNU General Public License v3\n",
      "Logging to ../data/meta_results.log.\n",
      "Options in effect:\n",
      "  --meta-analysis ../data/processed/EUR/synthetic_v1_GWAS_logistic.assoc.logistic ../data/processed/AFR/synthetic_v1_GWAS_logistic.assoc.logistic\n",
      "  --out ../data/meta_results\n",
      "\n",
      "16384 MB RAM detected; reserving 8192 MB for main workspace.\n",
      "--meta-analysis: 557781 problematic lines; see ../data/meta_results.prob .\n",
      "--meta-analysis: 4567401 variants processed; results written to\n",
      "../data/meta_results.meta .\n"
     ]
    }
   ],
   "source": [
    "!../plink --meta-analysis ../data/processed/EUR/synthetic_v1_GWAS_logistic.assoc.logistic \\\n",
    "      ../data/processed/AFR/synthetic_v1_GWAS_logistic.assoc.logistic \\\n",
    "      --out ../data/meta_results\n"
   ]
  },
  {
   "cell_type": "code",
   "execution_count": null,
   "metadata": {},
   "outputs": [],
   "source": []
  }
 ],
 "metadata": {
  "kernelspec": {
   "display_name": "venv",
   "language": "python",
   "name": "python3"
  },
  "language_info": {
   "codemirror_mode": {
    "name": "ipython",
    "version": 3
   },
   "file_extension": ".py",
   "mimetype": "text/x-python",
   "name": "python",
   "nbconvert_exporter": "python",
   "pygments_lexer": "ipython3",
   "version": "3.11.0"
  }
 },
 "nbformat": 4,
 "nbformat_minor": 2
}
